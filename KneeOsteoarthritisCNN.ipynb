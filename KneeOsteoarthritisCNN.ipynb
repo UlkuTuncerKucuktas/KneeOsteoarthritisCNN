{
  "nbformat": 4,
  "nbformat_minor": 0,
  "metadata": {
    "colab": {
      "name": "diz_kirec_makine.ipynb",
      "provenance": [],
      "collapsed_sections": [],
      "include_colab_link": true
    },
    "kernelspec": {
      "name": "python3",
      "display_name": "Python 3"
    },
    "accelerator": "GPU"
  },
  "cells": [
    {
      "cell_type": "markdown",
      "metadata": {
        "id": "view-in-github",
        "colab_type": "text"
      },
      "source": [
        "<a href=\"https://colab.research.google.com/github/UlkuTuncerKucuktas/KneeOsteoarthritisCNN/blob/main/KneeOsteoarthritisCNN.ipynb\" target=\"_parent\"><img src=\"https://colab.research.google.com/assets/colab-badge.svg\" alt=\"Open In Colab\"/></a>"
      ]
    },
    {
      "cell_type": "code",
      "metadata": {
        "id": "FrGcmw0RxTXV"
      },
      "source": [
        "!unzip \"/content/drive/MyDrive/veri.zip\"  -d  \"/content/Image_Folder3\""
      ],
      "execution_count": null,
      "outputs": []
    },
    {
      "cell_type": "code",
      "metadata": {
        "id": "naBq25NcIQ1o"
      },
      "source": [
        "from distutils.dir_util import copy_tree\n",
        "import os \n",
        "def createTrainFolder(dirs):\n",
        "  for dir in dirs:\n",
        "    try:\n",
        "      os.makedirs(\"/content/train/0/\")\n",
        "      os.makedirs(\"/content/train/1/\")\n",
        "      os.makedirs(\"/content/train/2/\")\n",
        "      os.makedirs(\"/content/train/3/\")\n",
        "      os.makedirs(\"/content/train/4/\")\n",
        "    except:\n",
        "      pass\n",
        "\n",
        "    copy_tree(dir+\"/0/\",\"/content/train/0/\")\n",
        "    copy_tree(dir+\"/1/\",\"/content/train/1/\")\n",
        "    copy_tree(dir+\"/2/\",\"/content/train/2/\")\n",
        "    copy_tree(dir+\"/3/\",\"/content/train/3/\")\n",
        "    copy_tree(dir+\"/4/\",\"/content/train/4/\")\n",
        "\n",
        "def createValFolder(dirs):\n",
        "  for dir in dirs:\n",
        "    try:\n",
        "      os.makedirs(\"/content/val/0/\")\n",
        "      os.makedirs(\"/content/val/1/\")\n",
        "      os.makedirs(\"/content/val/2/\")\n",
        "      os.makedirs(\"/content/val/3/\")\n",
        "      os.makedirs(\"/content/val/4/\")\n",
        "    except:\n",
        "      pass\n",
        "\n",
        "    copy_tree(dir+\"/0/\",\"/content/val/0/\")\n",
        "    copy_tree(dir+\"/1/\",\"/content/val/1/\")\n",
        "    copy_tree(dir+\"/2/\",\"/content/val/2/\")\n",
        "    copy_tree(dir+\"/3/\",\"/content/val/3/\")\n",
        "    copy_tree(dir+\"/4/\",\"/content/val/4/\")\n",
        "\n",
        "\n",
        "dirs = [\"/content/Image_Folder3/KneeXrayData/ClsKLData/kneeKL224/train\",\"/content/Image_Folder3/KneeXrayData/ClsKLData/kneeKL224/test\"]\n",
        "createTrainFolder(dirs)\n",
        "createValFolder([\"/content/Image_Folder3/KneeXrayData/ClsKLData/kneeKL224/val\"])\n"
      ],
      "execution_count": 4,
      "outputs": []
    },
    {
      "cell_type": "code",
      "metadata": {
        "id": "pZL-yJEAznRe"
      },
      "source": [
        "import torch\n",
        "if torch.cuda.is_available():\n",
        "  device = torch.device(\"cuda\")\n",
        "else:\n",
        "  device = torch.device(\"cpu\")"
      ],
      "execution_count": 20,
      "outputs": []
    },
    {
      "cell_type": "code",
      "metadata": {
        "id": "btc6zrCQvxq7"
      },
      "source": [
        "import numpy as np\n",
        "import cv2\n",
        "def toGrayScale(img):\n",
        "  img = np.array(img) \n",
        "  if(len(img.shape) == 3):\n",
        "    img = cv2.cvtColor(img, cv2.COLOR_RGB2GRAY)\n",
        "  \n",
        "  return img\n"
      ],
      "execution_count": 21,
      "outputs": []
    },
    {
      "cell_type": "code",
      "metadata": {
        "id": "pBRLbTQjWAGA"
      },
      "source": [
        "from torchvision import datasets, transforms as T\n",
        "\n",
        "transformfunc = T.Compose([toGrayScale, T.ToTensor(),T.Resize(256), T.CenterCrop(224)])"
      ],
      "execution_count": 22,
      "outputs": []
    },
    {
      "cell_type": "code",
      "metadata": {
        "id": "K4fSRrMZaeqU"
      },
      "source": [
        "import torch\n",
        "import torchvision.datasets as datasets\n",
        "\n",
        "train_set = datasets.ImageFolder(\"/content/train\",transform=transformfunc)\n",
        "val_set = datasets.ImageFolder(\"/content/val\",transform=transformfunc)"
      ],
      "execution_count": 23,
      "outputs": []
    },
    {
      "cell_type": "code",
      "metadata": {
        "id": "xGB5KqJr2JxF"
      },
      "source": [
        "from torch.utils.data import DataLoader\n",
        "trainloader = DataLoader(dataset=train_set,batch_size=32,shuffle=True)\n",
        "valloader = DataLoader(dataset=val_set,batch_size=1,shuffle=False)"
      ],
      "execution_count": 24,
      "outputs": []
    },
    {
      "cell_type": "code",
      "metadata": {
        "colab": {
          "base_uri": "https://localhost:8080/"
        },
        "id": "nMscc70i_Hfc",
        "outputId": "7a189db3-312a-46c0-8b8f-df32e1c63981"
      },
      "source": [
        "import sklearn\n",
        "class_weights = sklearn.utils.class_weight.compute_class_weight('balanced',[0,1,2,3,4],train_set.targets )\n",
        "class_weights"
      ],
      "execution_count": 25,
      "outputs": [
        {
          "output_type": "execute_result",
          "data": {
            "text/plain": [
              "array([0.50830769, 1.10789866, 0.75741212, 1.51714286, 6.6375    ])"
            ]
          },
          "metadata": {},
          "execution_count": 25
        }
      ]
    },
    {
      "cell_type": "code",
      "metadata": {
        "colab": {
          "base_uri": "https://localhost:8080/"
        },
        "id": "4etVLLaDszZF",
        "outputId": "0f552f07-0ea5-459c-fdf8-5398f84f7b44"
      },
      "source": [
        "train_set"
      ],
      "execution_count": 26,
      "outputs": [
        {
          "output_type": "execute_result",
          "data": {
            "text/plain": [
              "Dataset ImageFolder\n",
              "    Number of datapoints: 7434\n",
              "    Root location: /content/train\n",
              "    StandardTransform\n",
              "Transform: Compose(\n",
              "               <function toGrayScale at 0x7fee2d9170e0>\n",
              "               ToTensor()\n",
              "               Resize(size=256, interpolation=bilinear, max_size=None, antialias=None)\n",
              "               CenterCrop(size=(224, 224))\n",
              "           )"
            ]
          },
          "metadata": {},
          "execution_count": 26
        }
      ]
    },
    {
      "cell_type": "code",
      "metadata": {
        "id": "DqhmxuStcdkw"
      },
      "source": [
        "import torch.nn as nn\n",
        "from torch.nn import Linear, ReLU, CrossEntropyLoss, Sequential, Conv2d, MaxPool2d,Dropout,Sigmoid,BatchNorm2d\n",
        "\n",
        "class Net(nn.Module):\n",
        "  def __init__(self):\n",
        "     super(Net, self).__init__()\n",
        "     self.cnn_layers = Sequential(\n",
        "     Conv2d(1,32, kernel_size=2, stride=1, padding=1),\n",
        "     BatchNorm2d(32),\n",
        "     ReLU(inplace=True),\n",
        "     MaxPool2d(kernel_size=2, stride=2),\n",
        "     Conv2d(32,64, kernel_size=2, stride=1, padding=1),\n",
        "     BatchNorm2d(64),\n",
        "     ReLU(inplace=True),\n",
        "     MaxPool2d(kernel_size=2, stride=2),\n",
        "     Conv2d(64,128, kernel_size=2, stride=1, padding=1),\n",
        "     BatchNorm2d(128),\n",
        "     ReLU(inplace=True),\n",
        "     MaxPool2d(kernel_size=2, stride=2),\n",
        "     Conv2d(128,256, kernel_size=2, stride=1, padding=1),\n",
        "     BatchNorm2d(256),\n",
        "     ReLU(inplace=True),\n",
        "     MaxPool2d(kernel_size=2, stride=2)\n",
        "     )\n",
        "     self.linear_layers = Sequential( \n",
        "        Linear(50176,128),\n",
        "        Linear(128,5)\n",
        "        )\n",
        "     #Defining the forward pass\n",
        "  def forward(self, x):\n",
        "    x = self.cnn_layers(x)\n",
        "    x = x.view(x.size(0), -1)\n",
        "    x = self.linear_layers(x)\n",
        "\n",
        "    return x\n",
        "\n",
        "model = Net()\n",
        "model = model.to(device)"
      ],
      "execution_count": 29,
      "outputs": []
    },
    {
      "cell_type": "code",
      "metadata": {
        "colab": {
          "base_uri": "https://localhost:8080/"
        },
        "id": "ijxG3MuZX6Vr",
        "outputId": "3b6491ce-19e3-4448-f59a-ab3ca7abbdce"
      },
      "source": [
        "from sklearn.metrics import f1_score\n",
        "\n",
        "criterion = nn.CrossEntropyLoss(weight=torch.Tensor(class_weights).to(device))\n",
        "\n",
        "optimizer = torch.optim.Adam(model.parameters())\n",
        "\n",
        "\n",
        "def train(model,criterion,train_loader,optimizer,epochs = 10):\n",
        "  train_loss = []\n",
        "  for epoch in range(epochs):\n",
        "    running_loss = 0.0\n",
        "    for i,(x,y) in enumerate(train_loader):\n",
        "      x,y = x.to(device),y.to(device) # Modele girecek tensorları cudaya gönder\n",
        "      optimizer.zero_grad()\n",
        "      z = model(x)\n",
        "      loss = criterion(z,y)\n",
        "      loss.backward()\n",
        "      optimizer.step()\n",
        "      running_loss += loss.item()\n",
        "      if i % 52 == 51 :\n",
        "        preds = []\n",
        "        actuals = []\n",
        "        for x,y in valloader:\n",
        "          x,y = x.to(device),y.to(device).to(torch.float32)\n",
        "          z = model(x)\n",
        "          label = torch.max(z,-1).indices.item()\n",
        "          preds.append(label)\n",
        "          actuals.append(y.item())\n",
        "        score = f1_score(actuals,preds, average='macro')\n",
        "        print(\"F1 score :\",score)\n",
        "        print('[%d, %5d] loss: %.3f' %(epoch + 1, i + 1, running_loss / 20))\n",
        "\n",
        "\n",
        "\n",
        "train(model,criterion,trainloader,optimizer,15)"
      ],
      "execution_count": 30,
      "outputs": [
        {
          "output_type": "stream",
          "name": "stdout",
          "text": [
            "F1 score : 0.06266996093083049\n",
            "[1,    52] loss: 35.858\n",
            "F1 score : 0.08129637820040296\n",
            "[1,   104] loss: 44.711\n",
            "F1 score : 0.1760677526859772\n",
            "[1,   156] loss: 50.608\n",
            "F1 score : 0.19727985851019558\n",
            "[1,   208] loss: 55.577\n",
            "F1 score : 0.2593189189462481\n",
            "[2,    52] loss: 4.874\n",
            "F1 score : 0.26307358638520795\n",
            "[2,   104] loss: 9.749\n",
            "F1 score : 0.26673247346005075\n",
            "[2,   156] loss: 14.817\n",
            "F1 score : 0.18877138436679886\n",
            "[2,   208] loss: 18.989\n",
            "F1 score : 0.2400483379963098\n",
            "[3,    52] loss: 3.904\n",
            "F1 score : 0.2383755487743223\n",
            "[3,   104] loss: 7.765\n",
            "F1 score : 0.25024934128334525\n",
            "[3,   156] loss: 11.367\n",
            "F1 score : 0.3449065769977147\n",
            "[3,   208] loss: 14.798\n",
            "F1 score : 0.3619826462883471\n",
            "[4,    52] loss: 3.316\n",
            "F1 score : 0.36536693464674475\n",
            "[4,   104] loss: 6.659\n",
            "F1 score : 0.4427858041123109\n",
            "[4,   156] loss: 9.879\n",
            "F1 score : 0.3633583639595047\n",
            "[4,   208] loss: 13.031\n",
            "F1 score : 0.47497368831633135\n",
            "[5,    52] loss: 3.048\n",
            "F1 score : 0.3887588645738871\n",
            "[5,   104] loss: 6.458\n",
            "F1 score : 0.4519990985962634\n",
            "[5,   156] loss: 9.364\n",
            "F1 score : 0.3778345130966264\n",
            "[5,   208] loss: 12.399\n",
            "F1 score : 0.4442335309231731\n",
            "[6,    52] loss: 2.860\n",
            "F1 score : 0.39565806986959845\n",
            "[6,   104] loss: 5.715\n",
            "F1 score : 0.46407361290932886\n",
            "[6,   156] loss: 8.787\n",
            "F1 score : 0.44814786757831737\n",
            "[6,   208] loss: 11.423\n",
            "F1 score : 0.4290349825647196\n",
            "[7,    52] loss: 2.588\n",
            "F1 score : 0.4974580134722174\n",
            "[7,   104] loss: 5.282\n",
            "F1 score : 0.437701412449184\n",
            "[7,   156] loss: 7.896\n",
            "F1 score : 0.3685905548100403\n",
            "[7,   208] loss: 10.597\n",
            "F1 score : 0.49531243904809824\n",
            "[8,    52] loss: 2.660\n",
            "F1 score : 0.4195929751844833\n",
            "[8,   104] loss: 5.093\n",
            "F1 score : 0.44043194718516804\n",
            "[8,   156] loss: 7.605\n",
            "F1 score : 0.48645282711262094\n",
            "[8,   208] loss: 10.361\n",
            "F1 score : 0.45628897840756355\n",
            "[9,    52] loss: 2.547\n",
            "F1 score : 0.46338315883206055\n",
            "[9,   104] loss: 4.840\n",
            "F1 score : 0.5287353611308943\n",
            "[9,   156] loss: 7.146\n",
            "F1 score : 0.4944204710133068\n",
            "[9,   208] loss: 9.547\n",
            "F1 score : 0.46470587598752855\n",
            "[10,    52] loss: 2.314\n",
            "F1 score : 0.48729565215796533\n",
            "[10,   104] loss: 4.768\n",
            "F1 score : 0.5238665051618634\n",
            "[10,   156] loss: 7.034\n",
            "F1 score : 0.5134567957061074\n",
            "[10,   208] loss: 9.448\n",
            "F1 score : 0.43809188632718044\n",
            "[11,    52] loss: 2.210\n",
            "F1 score : 0.5179382243342701\n",
            "[11,   104] loss: 4.429\n",
            "F1 score : 0.4788648397256696\n",
            "[11,   156] loss: 6.679\n",
            "F1 score : 0.42001817140113334\n",
            "[11,   208] loss: 9.148\n",
            "F1 score : 0.48610243628378597\n",
            "[12,    52] loss: 2.154\n",
            "F1 score : 0.4660092381284011\n",
            "[12,   104] loss: 4.333\n",
            "F1 score : 0.46888510048103127\n",
            "[12,   156] loss: 6.503\n",
            "F1 score : 0.5355277642172034\n",
            "[12,   208] loss: 8.591\n",
            "F1 score : 0.4751716166247112\n",
            "[13,    52] loss: 1.894\n",
            "F1 score : 0.47234775086349423\n",
            "[13,   104] loss: 3.789\n",
            "F1 score : 0.4637808793855102\n",
            "[13,   156] loss: 5.905\n",
            "F1 score : 0.49511431091161595\n",
            "[13,   208] loss: 7.820\n",
            "F1 score : 0.43987451624158835\n",
            "[14,    52] loss: 1.937\n",
            "F1 score : 0.4918185935260393\n",
            "[14,   104] loss: 3.714\n",
            "F1 score : 0.5514362018168701\n",
            "[14,   156] loss: 5.537\n",
            "F1 score : 0.4898919565236658\n",
            "[14,   208] loss: 7.591\n",
            "F1 score : 0.5312262911917208\n",
            "[15,    52] loss: 1.837\n",
            "F1 score : 0.5519836527739008\n",
            "[15,   104] loss: 3.725\n",
            "F1 score : 0.5689116849240768\n",
            "[15,   156] loss: 5.429\n",
            "F1 score : 0.5320850786194298\n",
            "[15,   208] loss: 7.177\n"
          ]
        }
      ]
    },
    {
      "cell_type": "code",
      "metadata": {
        "colab": {
          "base_uri": "https://localhost:8080/"
        },
        "id": "CJ-q6J-Dwbek",
        "outputId": "ba3341e9-0f69-4ce5-8c79-7f1ca143c059"
      },
      "source": [
        "from sklearn.metrics import confusion_matrix\n",
        "\n",
        "preds = []\n",
        "actuals = []\n",
        "for x,y in valloader:\n",
        "  x,y = x.to(device),y.to(device).to(torch.float32)\n",
        "  z = model(x)\n",
        "  label = torch.max(z,-1).indices.item()\n",
        "  preds.append(label)\n",
        "  actuals.append(y.item())\n",
        "matrix = confusion_matrix(actuals,preds)\n",
        "matrix"
      ],
      "execution_count": 31,
      "outputs": [
        {
          "output_type": "execute_result",
          "data": {
            "text/plain": [
              "array([[199,  32,  81,  14,   2],\n",
              "       [ 70,  16,  50,  17,   0],\n",
              "       [ 37,   9, 122,  43,   1],\n",
              "       [  2,   1,  15,  78,  10],\n",
              "       [  0,   0,   1,   5,  21]])"
            ]
          },
          "metadata": {},
          "execution_count": 31
        }
      ]
    },
    {
      "cell_type": "code",
      "metadata": {
        "colab": {
          "base_uri": "https://localhost:8080/",
          "height": 313
        },
        "id": "Ay2aa90AyzOs",
        "outputId": "002052ac-5883-4586-c7ef-c60b8cb90164"
      },
      "source": [
        "import scikitplot as skplt\n",
        "\n",
        "skplt.metrics.plot_confusion_matrix(actuals, preds,normalize=True)"
      ],
      "execution_count": 37,
      "outputs": [
        {
          "output_type": "execute_result",
          "data": {
            "text/plain": [
              "<matplotlib.axes._subplots.AxesSubplot at 0x7fee2b195550>"
            ]
          },
          "metadata": {},
          "execution_count": 37
        },
        {
          "output_type": "display_data",
          "data": {
            "image/png": "[encoded data removed]",
            "text/plain": [
              "<Figure size 432x288 with 2 Axes>"
            ]
          },
          "metadata": {
            "needs_background": "light"
          }
        }
      ]
    },
    {
      "cell_type": "code",
      "metadata": {
        "colab": {
          "base_uri": "https://localhost:8080/",
          "height": 313
        },
        "id": "VdMffTrGxLlU",
        "outputId": "b700644a-7405-475c-a78b-81ad07036260"
      },
      "source": [
        "import scikitplot as skplt\n",
        "\n",
        "skplt.metrics.plot_confusion_matrix(actuals, preds,normalize=True)"
      ],
      "execution_count": 36,
      "outputs": [
        {
          "output_type": "execute_result",
          "data": {
            "text/plain": [
              "<matplotlib.axes._subplots.AxesSubplot at 0x7fee2ac0b3d0>"
            ]
          },
          "metadata": {},
          "execution_count": 36
        },
        {
          "output_type": "display_data",
          "data": {
            "image/png": "[encoded data removed]",
            "text/plain": [
              "<Figure size 432x288 with 2 Axes>"
            ]
          },
          "metadata": {
            "needs_background": "light"
          }
        }
      ]
    },
    {
      "cell_type": "code",
      "metadata": {
        "colab": {
          "base_uri": "https://localhost:8080/"
        },
        "id": "b7WQ3B20y14r",
        "outputId": "69c8f67d-fcea-470d-cf22-4330fd1f844f"
      },
      "source": [
        "from sklearn.metrics import classification_report\n",
        "\n",
        "print(classification_report(actuals,preds, target_names=[\"Category 1\",\"Category 2\",\"Category 3\",\"Category 4\",\"Category 5\"]))"
      ],
      "execution_count": 38,
      "outputs": [
        {
          "output_type": "stream",
          "name": "stdout",
          "text": [
            "              precision    recall  f1-score   support\n",
            "\n",
            "  Category 1       0.65      0.61      0.63       328\n",
            "  Category 2       0.28      0.10      0.15       153\n",
            "  Category 3       0.45      0.58      0.51       212\n",
            "  Category 4       0.50      0.74      0.59       106\n",
            "  Category 5       0.62      0.78      0.69        27\n",
            "\n",
            "    accuracy                           0.53       826\n",
            "   macro avg       0.50      0.56      0.51       826\n",
            "weighted avg       0.51      0.53      0.51       826\n",
            "\n"
          ]
        }
      ]
    },
    {
      "cell_type": "code",
      "metadata": {
        "id": "r43L3qwkz2gV"
      },
      "source": [
        ""
      ],
      "execution_count": null,
      "outputs": []
    }
  ]
}